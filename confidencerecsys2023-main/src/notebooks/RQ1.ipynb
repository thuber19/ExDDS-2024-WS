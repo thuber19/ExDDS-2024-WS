{
 "cells": [
  {
   "cell_type": "markdown",
   "id": "967046e5",
   "metadata": {
    "jupyter": {
     "outputs_hidden": true
    },
    "pycharm": {
     "name": "#%%\n"
    }
   },
   "source": [
    "## RQ1"
   ]
  },
  {
   "cell_type": "code",
   "execution_count": 1,
   "id": "22d94fea-08ef-4b92-8e34-952cf4f3f97c",
   "metadata": {},
   "outputs": [],
   "source": [
    "%load_ext autoreload\n",
    "%autoreload 2"
   ]
  },
  {
   "cell_type": "code",
   "execution_count": 2,
   "id": "221ed011-0b6e-48c8-89c1-70a2cd32866d",
   "metadata": {},
   "outputs": [],
   "source": [
    "import os\n",
    "import sys\n",
    "\n",
    "import matplotlib.pyplot as plt\n",
    "import numpy as np\n",
    "\n",
    "from sklearn.metrics import ndcg_score\n",
    "\n",
    "from dotenv import load_dotenv\n",
    "\n",
    "load_dotenv()\n",
    "project_root = os.environ[\"PROJECT_ROOT\"]\n",
    "sys.path.append(project_root)"
   ]
  },
  {
   "cell_type": "code",
   "execution_count": 3,
   "id": "aaa7eecf-d086-4d5e-82b8-8cd30a510925",
   "metadata": {},
   "outputs": [],
   "source": [
    "import src.modules.result_analysis.loading as result_loading\n",
    "import src.modules.result_analysis.model_standardization as ms"
   ]
  },
  {
   "cell_type": "code",
   "execution_count": 4,
   "id": "89b336da-04e3-4234-ad79-bd4eeee7beff",
   "metadata": {},
   "outputs": [],
   "source": [
    "figures_root = os.path.join(project_root, \"latex\", \"figures\")\n",
    "os.makedirs(figures_root, exist_ok=True)"
   ]
  },
  {
   "cell_type": "code",
   "execution_count": 5,
   "id": "7f981d47-cee4-48cd-a4cf-eae734613378",
   "metadata": {},
   "outputs": [],
   "source": [
    "plt.rc('font', size=20)\n",
    "plt.rc('text', usetex=True)\n",
    "plt.rc('text.latex', preamble=r'\\usepackage{amsmath,amssymb,bm,bbm,lmodern}')"
   ]
  },
  {
   "cell_type": "code",
   "execution_count": 6,
   "id": "3a39202c-130b-4307-926f-f654d0592f0e",
   "metadata": {},
   "outputs": [],
   "source": [
    "def loglik(df):\n",
    "    return np.log(np.take_along_axis((df[bins_mass_cols].values+1e-6)/(1.+1e-5), (df[\"rating\"]*2-1).astype(int).values[:,None], axis=1)).sum()"
   ]
  },
  {
   "cell_type": "code",
   "execution_count": 7,
   "id": "d8ce4b85-4f0a-4e3f-80b4-0e2b6461cb57",
   "metadata": {},
   "outputs": [],
   "source": [
    "bins_mass_cols = [f\"bins_mass_{x}\" for x in range(10)]"
   ]
  },
  {
   "cell_type": "code",
   "execution_count": 8,
   "id": "f5210c39-9880-415e-9add-794f01b1c199",
   "metadata": {},
   "outputs": [
    {
     "name": "stdout",
     "output_type": "stream",
     "text": [
      "Loading data\n",
      "Standardising\n"
     ]
    }
   ],
   "source": [
    "NUM_FOLDS = 10\n",
    "\n",
    "data_path_templates = {\n",
    "    \"LBDS_512_sum_no_bias\": os.path.join(project_root, \"logs\", \"LBD_results\", \"LBDS_512_sum_no_bias\", \"LBDS_512_sum_no_bias-{}-0\", \"export\"),\n",
    "    \"LBDS_512_sum_mn\": os.path.join(project_root, \"logs\", \"LBD_results\", \"LBDS_512_sum_mn\", \"LBDS_512_sum_mn-{}-0\", \"export\"),\n",
    "    \"LBDS_512_sum_ab\": os.path.join(project_root, \"logs\", \"LBD_results\", \"LBDS_512_sum_ab\", \"LBDS_512_sum_ab-{}-0\", \"export\"),\n",
    "    \"LBDS_512_norm_ab\": os.path.join(project_root, \"logs\", \"LBD_results\", \"LBDS_512_norm_ab\", \"LBDS_512_norm_ab-{}-0\", \"export\"),\n",
    "    \"LBDS_512_dot_ab\": os.path.join(project_root, \"logs\", \"LBD_results\", \"LBDS_512_dot_ab\", \"LBDS_512_dot_ab-{}-0\", \"export\"),\n",
    "    \"LBDS_256_256_ab\": os.path.join(project_root, \"logs\", \"LBD_results\", \"LBDS_256_256_ab\", \"LBDS_256_256_ab-{}-0\", \"export\"),\n",
    "    \"LBDA_512_sum_ab\": os.path.join(project_root, \"logs\", \"LBD_results\", \"LBDA_512_sum_ab\", \"LBDA_512_sum_ab-{}-0\", \"export\")\n",
    "}\n",
    "print(\"Loading data\")\n",
    "data = {k: [result_loading.path_to_df(v.format(i)) for i in range(NUM_FOLDS)] for k, v in data_path_templates.items()}\n",
    "print(\"Standardising\")\n",
    "confidence_models = {k: [ms.standardise_model(k, df) for df in dfs] for k, dfs in data.items()}"
   ]
  },
  {
   "cell_type": "markdown",
   "id": "09a3a443-45e6-48d4-a296-85eb4525d508",
   "metadata": {},
   "source": [
    "### Table 1"
   ]
  },
  {
   "cell_type": "code",
   "execution_count": 9,
   "id": "33d0c748-8157-4375-90f3-da7e1cf74077",
   "metadata": {},
   "outputs": [
    {
     "name": "stdout",
     "output_type": "stream",
     "text": [
      "RMSE\n",
      "{'LBDS_512_sum_no_bias': 0.79313594, 'LBDS_512_sum_mn': 0.7863374, 'LBDS_512_sum_ab': 0.78310776, 'LBDS_512_norm_ab': 0.8252937, 'LBDS_512_dot_ab': 0.86486995, 'LBDS_256_256_ab': 0.8018311, 'LBDA_512_sum_ab': 0.784263}\n"
     ]
    }
   ],
   "source": [
    "# RMSE\n",
    "metric = {k: [np.sqrt((df[\"err_mean\"]**2).mean()) for df in dfs] for k, dfs in confidence_models.items()}\n",
    "print(\"RMSE\")\n",
    "print({k: np.mean(v) for k, v in metric.items()})"
   ]
  },
  {
   "cell_type": "code",
   "execution_count": 10,
   "id": "016a4e72-3f61-424a-91c4-2869d6727685",
   "metadata": {},
   "outputs": [
    {
     "name": "stdout",
     "output_type": "stream",
     "text": [
      "MAE\n",
      "{'LBDS_512_sum_no_bias': 0.61304545, 'LBDS_512_sum_mn': 0.6057754, 'LBDS_512_sum_ab': 0.5958842, 'LBDS_512_norm_ab': 0.6257069, 'LBDS_512_dot_ab': 0.66480464, 'LBDS_256_256_ab': 0.61231214, 'LBDA_512_sum_ab': 0.59612036}\n"
     ]
    }
   ],
   "source": [
    "# MAE\n",
    "metric = {k: [np.mean(np.abs(df[\"err_mean\"])) for df in dfs] for k, dfs in confidence_models.items()}\n",
    "print(\"MAE\")\n",
    "print({k: np.mean(v) for k, v in metric.items()})"
   ]
  },
  {
   "cell_type": "code",
   "execution_count": 11,
   "id": "44176463-6704-459e-9dc3-5fd79c54c8b5",
   "metadata": {},
   "outputs": [
    {
     "name": "stdout",
     "output_type": "stream",
     "text": [
      "Accuracy\n",
      "{'LBDS_512_sum_no_bias': 0.3016418917893139, 'LBDS_512_sum_mn': 0.3091412490075098, 'LBDS_512_sum_ab': 0.3089746485284124, 'LBDS_512_norm_ab': 0.29452723778295564, 'LBDS_512_dot_ab': 0.27667260271719435, 'LBDS_256_256_ab': 0.2996180770083929, 'LBDA_512_sum_ab': 0.42542173373523023}\n"
     ]
    }
   ],
   "source": [
    "# Accuracy\n",
    "metric = {k: [np.mean(df[\"highest_correct\"]) for df in dfs] for k, dfs in confidence_models.items()}\n",
    "print(\"Accuracy\")\n",
    "print({k: np.mean(v) for k, v in metric.items()})"
   ]
  },
  {
   "cell_type": "code",
   "execution_count": 12,
   "id": "f07611c5-4f33-42e1-9ed7-bb5adb116e50",
   "metadata": {},
   "outputs": [
    {
     "name": "stdout",
     "output_type": "stream",
     "text": [
      "Loglik\n",
      "{'LBDS_512_sum_no_bias': -1769400.6, 'LBDS_512_sum_mn': -1759908.2, 'LBDS_512_sum_ab': -1757444.8, 'LBDS_512_norm_ab': -1887146.0, 'LBDS_512_dot_ab': -1856558.4, 'LBDS_256_256_ab': -1791266.8, 'LBDA_512_sum_ab': -1450483.8}\n"
     ]
    }
   ],
   "source": [
    "# Loglik\n",
    "metric = {k: [loglik(df) for df in dfs] for k, dfs in confidence_models.items()}\n",
    "print(\"Loglik\")\n",
    "print({k: np.mean(v) for k, v in metric.items()})"
   ]
  },
  {
   "cell_type": "code",
   "execution_count": 13,
   "id": "7b12d9d6-b507-4c8d-aa39-c74b95f446b4",
   "metadata": {
    "tags": []
   },
   "outputs": [
    {
     "name": "stdout",
     "output_type": "stream",
     "text": [
      "NDCG@3\n",
      "{'LBDS_512_sum_no_bias': 0.9330784663474194, 'LBDS_512_sum_mn': 0.9330805048016233, 'LBDS_512_sum_ab': 0.933683484803771, 'LBDS_512_norm_ab': 0.9248010918893647, 'LBDS_512_dot_ab': 0.9068579586061526, 'LBDS_256_256_ab': 0.9284288528290142, 'LBDA_512_sum_ab': 0.9329311919496576}\n"
     ]
    }
   ],
   "source": [
    "# NDCG@3\n",
    "ndcg_fn = lambda x: ndcg_score(x[\"rating\"].values[None,:], x[\"mean\"].values[None,:], k=3) if len(x) > 1 else 1.\n",
    "metric = {k: [np.mean(df.groupby(\"uid\")[[\"rating\", \"mean\"]].apply(ndcg_fn)) for df in dfs] for k, dfs in confidence_models.items()}\n",
    "print(\"NDCG@3\")\n",
    "print({k: np.mean(v) for k, v in metric.items()})"
   ]
  },
  {
   "cell_type": "code",
   "execution_count": 14,
   "id": "ce8cfd9e-a0f7-4198-a713-6198b9798c3f",
   "metadata": {
    "tags": []
   },
   "outputs": [
    {
     "name": "stdout",
     "output_type": "stream",
     "text": [
      "NDCG@10\n",
      "{'LBDS_512_sum_no_bias': 0.9568087133552832, 'LBDS_512_sum_mn': 0.9567515198335643, 'LBDS_512_sum_ab': 0.9570736381335326, 'LBDS_512_norm_ab': 0.9515151694240258, 'LBDS_512_dot_ab': 0.9406176803042717, 'LBDS_256_256_ab': 0.9537905880832037, 'LBDA_512_sum_ab': 0.9565138316171383}\n"
     ]
    }
   ],
   "source": [
    "# NDCG@10\n",
    "ndcg_fn = lambda x: ndcg_score(x[\"rating\"].values[None,:], x[\"mean\"].values[None,:], k=10) if len(x) > 1 else 1.\n",
    "metric = {k: [np.mean(df.groupby(\"uid\")[[\"rating\", \"mean\"]].apply(ndcg_fn)) for df in dfs] for k, dfs in confidence_models.items()}\n",
    "print(\"NDCG@10\")\n",
    "print({k: np.mean(v) for k, v in metric.items()})"
   ]
  },
  {
   "cell_type": "code",
   "execution_count": null,
   "id": "8db7e583-6141-4e7c-a3e0-c9a2972a23d4",
   "metadata": {},
   "outputs": [],
   "source": []
  }
 ],
 "metadata": {
  "jupytext": {
   "formats": "ipynb,py:percent"
  },
  "kernelspec": {
   "display_name": "Python 3",
   "language": "python",
   "name": "python3"
  },
  "language_info": {
   "codemirror_mode": {
    "name": "ipython",
    "version": 3
   },
   "file_extension": ".py",
   "mimetype": "text/x-python",
   "name": "python",
   "nbconvert_exporter": "python",
   "pygments_lexer": "ipython3",
   "version": "3.10.11"
  }
 },
 "nbformat": 4,
 "nbformat_minor": 5
}
