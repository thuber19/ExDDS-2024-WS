{
 "cells": [
  {
   "cell_type": "markdown",
   "metadata": {
    "jupyter": {
     "outputs_hidden": false
    },
    "pycharm": {
     "name": "#%%\n"
    }
   },
   "source": [
    "## RQ2"
   ]
  },
  {
   "cell_type": "code",
   "execution_count": 1,
   "metadata": {
    "pycharm": {
     "name": "#%%\n"
    }
   },
   "outputs": [],
   "source": [
    "%load_ext autoreload\n",
    "%autoreload 2"
   ]
  },
  {
   "cell_type": "code",
   "execution_count": 2,
   "metadata": {
    "pycharm": {
     "name": "#%%\n"
    }
   },
   "outputs": [],
   "source": [
    "import os\n",
    "import sys\n",
    "\n",
    "import matplotlib.pyplot as plt\n",
    "import numpy as np\n",
    "import pandas as pd\n",
    "import scipy.stats as ss\n",
    "\n",
    "from sklearn.metrics import ndcg_score\n",
    "\n",
    "from dotenv import load_dotenv\n",
    "\n",
    "load_dotenv()\n",
    "project_root = os.environ[\"PROJECT_ROOT\"]\n",
    "sys.path.append(project_root)"
   ]
  },
  {
   "cell_type": "code",
   "execution_count": 3,
   "metadata": {
    "pycharm": {
     "name": "#%%\n"
    }
   },
   "outputs": [],
   "source": [
    "import src.modules.result_analysis.loading as result_loading\n",
    "import src.modules.result_analysis.model_standardization as ms"
   ]
  },
  {
   "cell_type": "code",
   "execution_count": 4,
   "metadata": {
    "pycharm": {
     "name": "#%%\n"
    }
   },
   "outputs": [],
   "source": [
    "figures_root = os.path.join(project_root, \"latex\", \"figures\")\n",
    "os.makedirs(figures_root, exist_ok=True)"
   ]
  },
  {
   "cell_type": "code",
   "execution_count": 5,
   "metadata": {
    "pycharm": {
     "name": "#%%\n"
    }
   },
   "outputs": [],
   "source": [
    "plt.rc('font', size=20)\n",
    "plt.rc('text', usetex=True)\n",
    "plt.rc('text.latex', preamble=r'\\usepackage{amsmath,amssymb,bm,bbm,lmodern}')"
   ]
  },
  {
   "cell_type": "code",
   "execution_count": 6,
   "metadata": {
    "pycharm": {
     "name": "#%%\n"
    }
   },
   "outputs": [],
   "source": [
    "def loglik(df):\n",
    "    return np.log(np.take_along_axis((df[bins_mass_cols].values+1e-6)/(1.+1e-5), (df[\"rating\"]*2-1).astype(int).values[:,None], axis=1)).sum()"
   ]
  },
  {
   "cell_type": "code",
   "execution_count": 7,
   "metadata": {
    "pycharm": {
     "name": "#%%\n"
    }
   },
   "outputs": [],
   "source": [
    "bins_mass_cols = [f\"bins_mass_{x}\" for x in range(10)]"
   ]
  },
  {
   "cell_type": "code",
   "execution_count": 8,
   "metadata": {
    "pycharm": {
     "name": "#%%\n"
    }
   },
   "outputs": [
    {
     "name": "stdout",
     "output_type": "stream",
     "text": [
      "Loading data\n",
      "Standardising\n"
     ]
    }
   ],
   "source": [
    "NUM_FOLDS = 10\n",
    "\n",
    "data_path_templates = {\n",
    "    \"MF_128\": os.path.join(project_root, \"logs\", \"LBD_results\", \"MF_128\", \"MF_128-{}-0\", \"export\"),    \n",
    "    \"MF_512\": os.path.join(project_root, \"logs\", \"LBD_results\", \"MF_512\", \"MF_512-{}-0\", \"export\"), #TH\n",
    "    \"CMF_128\": os.path.join(project_root, \"logs\", \"LBD_results\", \"CMF_128\", \"CMF_128-{}-0\", \"export\"),\n",
    "    \"CMF_512\": os.path.join(project_root, \"logs\", \"LBD_results\", \"CMF_512\", \"CMF_512-{}-0\", \"export\"), #TH\n",
    "\n",
    "    \"OrdRec-U_512\": os.path.join(project_root, \"logs\", \"LBD_results\", \"OrdRec-U_512\", \"OrdRec-U_512-{}-0\", \"export\"), #TH\n",
    "\n",
    "    \"OrdRec-UI_512\": os.path.join(project_root, \"logs\", \"LBD_results\", \"OrdRec-UI_512\", \"OrdRec-UI_512-{}-0\", \"export\"),\n",
    "    \"LBDS_512_sum_ab\": os.path.join(project_root, \"logs\", \"LBD_results\", \"LBDS_512_sum_ab\", \"LBDS_512_sum_ab-{}-0\", \"export\"),\n",
    "    \"LBDA_512_sum_ab\": os.path.join(project_root, \"logs\", \"LBD_results\", \"LBDA_512_sum_ab\", \"LBDA_512_sum_ab-{}-0\", \"export\")\n",
    "}\n",
    "\n",
    "print(\"Loading data\")\n",
    "data = {k: [result_loading.path_to_df(v.format(i)) for i in range(NUM_FOLDS)] for k, v in data_path_templates.items()}\n",
    "print(\"Standardising\")\n",
    "confidence_models = {k: [ms.standardise_model(k, df) for df in dfs] for k, dfs in data.items()}"
   ]
  },
  {
   "cell_type": "markdown",
   "metadata": {
    "pycharm": {
     "name": "#%% md\n"
    }
   },
   "source": [
    "### Table 2"
   ]
  },
  {
   "cell_type": "code",
   "execution_count": 9,
   "metadata": {
    "pycharm": {
     "name": "#%%\n"
    }
   },
   "outputs": [
    {
     "name": "stdout",
     "output_type": "stream",
     "text": [
      "RMSE\n",
      "MF_128: 0.8082108497619629 (0.0006533297710120678)\n",
      "MF_512: 0.7882583737373352 (0.0007137320353649557)\n",
      "CMF_128: 0.7914099262585901 (0.0006288243754967642)\n",
      "CMF_512: 0.779554545879364 (0.0007619544048793614)\n",
      "OrdRec-U_512: 0.7820902466773987 (0.0006716593052260578)\n",
      "OrdRec-UI_512: 0.7764747142791748 (0.0006628120318055153)\n",
      "LBDS_512_sum_ab: 0.7831077575683594 (0.0006951719406060874)\n",
      "LBDA_512_sum_ab: 0.784263014793396 (0.00043219627696089447)\n",
      "RMSE: (i,j) is p-value for alternative hypothesis that i is less than j.\n",
      "                   MF_128    MF_512   CMF_128   CMF_512  OrdRec-U_512  \\\n",
      "MF_128           0.000000  1.000000  1.000000  1.000000      1.000000   \n",
      "MF_512           0.000977  0.000000  0.000977  1.000000      1.000000   \n",
      "CMF_128          0.000977  1.000000  0.000000  1.000000      1.000000   \n",
      "CMF_512          0.000977  0.000977  0.000977  0.000000      0.000977   \n",
      "OrdRec-U_512     0.000977  0.000977  0.000977  1.000000      0.000000   \n",
      "OrdRec-UI_512    0.000977  0.000977  0.000977  0.000977      0.000977   \n",
      "LBDS_512_sum_ab  0.000977  0.000977  0.000977  1.000000      1.000000   \n",
      "LBDA_512_sum_ab  0.000977  0.000977  0.000977  1.000000      1.000000   \n",
      "\n",
      "                 OrdRec-UI_512  LBDS_512_sum_ab  LBDA_512_sum_ab  \n",
      "MF_128                     1.0         1.000000         1.000000  \n",
      "MF_512                     1.0         1.000000         1.000000  \n",
      "CMF_128                    1.0         1.000000         1.000000  \n",
      "CMF_512                    1.0         0.000977         0.000977  \n",
      "OrdRec-U_512               1.0         0.000977         0.000977  \n",
      "OrdRec-UI_512              0.0         0.000977         0.000977  \n",
      "LBDS_512_sum_ab            1.0         0.000000         0.000977  \n",
      "LBDA_512_sum_ab            1.0         1.000000         0.000000  \n"
     ]
    }
   ],
   "source": [
    "# RMSE\n",
    "alternative = \"less\"\n",
    "metric = {k: [np.sqrt((df[\"err_mean\"]**2).mean()) for df in dfs] for k, dfs in confidence_models.items()}\n",
    "keys = list(metric.keys())\n",
    "stat_sign = np.zeros((len(metric), len(metric)))\n",
    "for i, k in enumerate(keys):\n",
    "    for j, k2 in enumerate(keys):\n",
    "        if i == j:\n",
    "            continue\n",
    "        stat_sign[i,j] = ss.wilcoxon(metric[k], metric[k2], alternative=alternative).pvalue\n",
    "\n",
    "print(\"RMSE\") #TH\n",
    "for m, v in metric.items(): #TH\n",
    "    print(f\"{m}: {np.mean(v)} ({np.std(v)})\") #TH\n",
    "\n",
    "print(f\"RMSE: (i,j) is p-value for alternative hypothesis that i is {alternative} than j.\")\n",
    "print(pd.DataFrame(stat_sign, index=keys, columns=keys))"
   ]
  },
  {
   "cell_type": "code",
   "execution_count": 10,
   "metadata": {
    "pycharm": {
     "name": "#%%\n"
    }
   },
   "outputs": [
    {
     "name": "stdout",
     "output_type": "stream",
     "text": [
      "MAE\n",
      "MF_128: 0.6196640729904175 (0.0005219845334067941)\n",
      "MF_512: 0.6018463373184204 (0.0005039231618866324)\n",
      "CMF_128: 0.6069215342591894 (0.00047553317762655126)\n",
      "CMF_512: 0.5965022444725037 (0.0005485996953211725)\n",
      "OrdRec-U_512: 0.6042482256889343 (0.00040677032666280866)\n",
      "OrdRec-UI_512: 0.5896550416946411 (0.0006094011478126049)\n",
      "LBDS_512_sum_ab: 0.5958842039108276 (0.0005075912340544164)\n",
      "LBDA_512_sum_ab: 0.5961203575134277 (0.0006764851277694106)\n",
      "\n",
      "(i,j) is p-value for alternative hypothesis that i is less than j.\n",
      "                   MF_128    MF_512   CMF_128   CMF_512  OrdRec-U_512  \\\n",
      "MF_128           0.000000  1.000000  1.000000  1.000000      1.000000   \n",
      "MF_512           0.000977  0.000000  0.000977  1.000000      0.000977   \n",
      "CMF_128          0.000977  1.000000  0.000000  1.000000      1.000000   \n",
      "CMF_512          0.000977  0.000977  0.000977  0.000000      0.000977   \n",
      "OrdRec-U_512     0.000977  1.000000  0.000977  1.000000      0.000000   \n",
      "OrdRec-UI_512    0.000977  0.000977  0.000977  0.000977      0.000977   \n",
      "LBDS_512_sum_ab  0.000977  0.000977  0.000977  0.004883      0.000977   \n",
      "LBDA_512_sum_ab  0.000977  0.000977  0.000977  0.278320      0.000977   \n",
      "\n",
      "                 OrdRec-UI_512  LBDS_512_sum_ab  LBDA_512_sum_ab  \n",
      "MF_128                     1.0         1.000000         1.000000  \n",
      "MF_512                     1.0         1.000000         1.000000  \n",
      "CMF_128                    1.0         1.000000         1.000000  \n",
      "CMF_512                    1.0         0.997070         0.753906  \n",
      "OrdRec-U_512               1.0         1.000000         1.000000  \n",
      "OrdRec-UI_512              0.0         0.000977         0.000977  \n",
      "LBDS_512_sum_ab            1.0         0.000000         0.246094  \n",
      "LBDA_512_sum_ab            1.0         0.784180         0.000000  \n"
     ]
    }
   ],
   "source": [
    "# MAE\n",
    "metric = {k: [np.mean(np.abs(df[\"err_mean\"])) for df in dfs] for k, dfs in confidence_models.items()}\n",
    "alternative = \"less\"\n",
    "keys = list(metric.keys())\n",
    "stat_sign = np.zeros((len(metric), len(metric)))\n",
    "for i, k in enumerate(keys):\n",
    "    for j, k2 in enumerate(keys):\n",
    "        if i == j:\n",
    "            continue\n",
    "        stat_sign[i,j] = ss.wilcoxon(metric[k], metric[k2], alternative=alternative).pvalue\n",
    "print(\"MAE\")\n",
    "for m, v in metric.items():\n",
    "    print(f\"{m}: {np.mean(v)} ({np.std(v)})\")\n",
    "print(f\"\\n(i,j) is p-value for alternative hypothesis that i is {alternative} than j.\")\n",
    "print(pd.DataFrame(stat_sign, index=keys, columns=keys))"
   ]
  },
  {
   "cell_type": "code",
   "execution_count": 11,
   "metadata": {
    "pycharm": {
     "name": "#%%\n"
    }
   },
   "outputs": [],
   "source": [
    "# met"
   ]
  },
  {
   "cell_type": "code",
   "execution_count": 12,
   "metadata": {
    "pycharm": {
     "name": "#%%\n"
    }
   },
   "outputs": [
    {
     "name": "stdout",
     "output_type": "stream",
     "text": [
      "Accuracy\n",
      "MF_128: 0.07386756164163595 (0.0003484194214023142)\n",
      "MF_512: 0.07582877602765585 (0.0002603589335166856)\n",
      "CMF_128: 0.31004825596117036 (0.0003256249495231721)\n",
      "CMF_512: 0.29065730627636693 (0.00223521099639586)\n",
      "OrdRec-U_512: 0.23236346597439642 (0.0002788825642972985)\n",
      "OrdRec-UI_512: 0.4187010821614837 (0.0005703560242397978)\n",
      "LBDS_512_sum_ab: 0.3089746485284124 (0.00036166354474327016)\n",
      "LBDA_512_sum_ab: 0.42542173373523023 (0.0005158957410708795)\n",
      "\n",
      "(i,j) is p-value for alternative hypothesis that i is greater than j.\n",
      "                   MF_128    MF_512   CMF_128   CMF_512  OrdRec-U_512  \\\n",
      "MF_128           0.000000  1.000000  1.000000  1.000000      1.000000   \n",
      "MF_512           0.000977  0.000000  1.000000  1.000000      1.000000   \n",
      "CMF_128          0.000977  0.000977  0.000000  0.000977      0.000977   \n",
      "CMF_512          0.000977  0.000977  1.000000  0.000000      0.000977   \n",
      "OrdRec-U_512     0.000977  0.000977  1.000000  1.000000      0.000000   \n",
      "OrdRec-UI_512    0.000977  0.000977  0.000977  0.000977      0.000977   \n",
      "LBDS_512_sum_ab  0.000977  0.000977  1.000000  0.000977      0.000977   \n",
      "LBDA_512_sum_ab  0.000977  0.000977  0.000977  0.000977      0.000977   \n",
      "\n",
      "                 OrdRec-UI_512  LBDS_512_sum_ab  LBDA_512_sum_ab  \n",
      "MF_128                1.000000         1.000000              1.0  \n",
      "MF_512                1.000000         1.000000              1.0  \n",
      "CMF_128               1.000000         0.000977              1.0  \n",
      "CMF_512               1.000000         1.000000              1.0  \n",
      "OrdRec-U_512          1.000000         1.000000              1.0  \n",
      "OrdRec-UI_512         0.000000         0.000977              1.0  \n",
      "LBDS_512_sum_ab       1.000000         0.000000              1.0  \n",
      "LBDA_512_sum_ab       0.000977         0.000977              0.0  \n"
     ]
    }
   ],
   "source": [
    "# Accuracy\n",
    "metric = {k: [np.mean(df[\"highest_correct\"]) for df in dfs] for k, dfs in confidence_models.items()}\n",
    "alternative = \"greater\"\n",
    "keys = list(metric.keys())\n",
    "stat_sign = np.zeros((len(metric), len(metric)))\n",
    "for i, k in enumerate(keys):\n",
    "    for j, k2 in enumerate(keys):\n",
    "        if i == j:\n",
    "            continue\n",
    "        stat_sign[i,j] = ss.wilcoxon(metric[k], metric[k2], alternative=alternative).pvalue\n",
    "print(\"Accuracy\")\n",
    "for m, v in metric.items():\n",
    "    print(f\"{m}: {np.mean(v)} ({np.std(v)})\")\n",
    "print(f\"\\n(i,j) is p-value for alternative hypothesis that i is {alternative} than j.\")\n",
    "print(pd.DataFrame(stat_sign, index=keys, columns=keys))"
   ]
  },
  {
   "cell_type": "code",
   "execution_count": 13,
   "metadata": {
    "pycharm": {
     "name": "#%%\n"
    }
   },
   "outputs": [
    {
     "name": "stdout",
     "output_type": "stream",
     "text": [
      "Loglik\n",
      "MF_128: -5716996.386884504 (12578.77540970421)\n",
      "MF_512: -5742655.395883513 (12503.224457324974)\n",
      "CMF_128: -1803117.0853134033 (871.6316401816556)\n",
      "CMF_512: -1804091.6142892234 (2422.228607769613)\n",
      "OrdRec-U_512: -1880640.75 (478.5470275878906)\n",
      "OrdRec-UI_512: -1569041.75 (1402.498046875)\n",
      "LBDS_512_sum_ab: -1757444.75 (1018.4052734375)\n",
      "LBDA_512_sum_ab: -1450483.75 (1057.6474609375)\n",
      "\n",
      "(i,j) is p-value for alternative hypothesis that i is greater than j.\n",
      "                   MF_128    MF_512   CMF_128   CMF_512  OrdRec-U_512  \\\n",
      "MF_128           0.000000  0.004883  1.000000  1.000000      1.000000   \n",
      "MF_512           0.997070  0.000000  1.000000  1.000000      1.000000   \n",
      "CMF_128          0.000977  0.000977  0.000000  0.065430      0.000977   \n",
      "CMF_512          0.000977  0.000977  0.947266  0.000000      0.000977   \n",
      "OrdRec-U_512     0.000977  0.000977  1.000000  1.000000      0.000000   \n",
      "OrdRec-UI_512    0.000977  0.000977  0.000977  0.000977      0.000977   \n",
      "LBDS_512_sum_ab  0.000977  0.000977  0.000977  0.000977      0.000977   \n",
      "LBDA_512_sum_ab  0.000977  0.000977  0.000977  0.000977      0.000977   \n",
      "\n",
      "                 OrdRec-UI_512  LBDS_512_sum_ab  LBDA_512_sum_ab  \n",
      "MF_128                1.000000         1.000000              1.0  \n",
      "MF_512                1.000000         1.000000              1.0  \n",
      "CMF_128               1.000000         1.000000              1.0  \n",
      "CMF_512               1.000000         1.000000              1.0  \n",
      "OrdRec-U_512          1.000000         1.000000              1.0  \n",
      "OrdRec-UI_512         0.000000         0.000977              1.0  \n",
      "LBDS_512_sum_ab       1.000000         0.000000              1.0  \n",
      "LBDA_512_sum_ab       0.000977         0.000977              0.0  \n"
     ]
    }
   ],
   "source": [
    "# Loglik\n",
    "metric = {k: [loglik(df) for df in dfs] for k, dfs in confidence_models.items()}\n",
    "alternative = \"greater\"\n",
    "keys = list(metric.keys())\n",
    "stat_sign = np.zeros((len(metric), len(metric)))\n",
    "for i, k in enumerate(keys):\n",
    "    for j, k2 in enumerate(keys):\n",
    "        if i == j:\n",
    "            continue\n",
    "        stat_sign[i,j] = ss.wilcoxon(metric[k], metric[k2], alternative=alternative).pvalue\n",
    "print(\"Loglik\")\n",
    "for m, v in metric.items():\n",
    "    print(f\"{m}: {np.mean(v)} ({np.std(v)})\")\n",
    "print(f\"\\n(i,j) is p-value for alternative hypothesis that i is {alternative} than j.\")\n",
    "print(pd.DataFrame(stat_sign, index=keys, columns=keys))"
   ]
  },
  {
   "cell_type": "code",
   "execution_count": 14,
   "metadata": {
    "pycharm": {
     "name": "#%%\n"
    },
    "tags": []
   },
   "outputs": [
    {
     "name": "stdout",
     "output_type": "stream",
     "text": [
      "NDCG@3\n",
      "MF_128: 0.9273200054380386 (0.0002976981535892033)\n",
      "MF_512: 0.9320953750747633 (0.0002663760513933267)\n",
      "CMF_128: 0.9293129705932444 (0.00032171611500622573)\n",
      "CMF_512: 0.9338366047196851 (0.00020902085624341282)\n",
      "OrdRec-U_512: 0.9342867915678141 (0.00028085871784768444)\n",
      "OrdRec-UI_512: 0.9349102495114007 (0.0002468387112372472)\n",
      "LBDS_512_sum_ab: 0.933683484803771 (0.00032464374433531355)\n",
      "LBDA_512_sum_ab: 0.9329311919496576 (0.00021384616027958543)\n",
      "\n",
      "(i,j) is p-value for alternative hypothesis that i is greater than j.\n",
      "                   MF_128    MF_512   CMF_128   CMF_512  OrdRec-U_512  \\\n",
      "MF_128           0.000000  1.000000  1.000000  1.000000      1.000000   \n",
      "MF_512           0.000977  0.000000  0.000977  1.000000      1.000000   \n",
      "CMF_128          0.000977  1.000000  0.000000  1.000000      1.000000   \n",
      "CMF_512          0.000977  0.000977  0.000977  0.000000      1.000000   \n",
      "OrdRec-U_512     0.000977  0.000977  0.000977  0.000977      0.000000   \n",
      "OrdRec-UI_512    0.000977  0.000977  0.000977  0.000977      0.000977   \n",
      "LBDS_512_sum_ab  0.000977  0.000977  0.000977  0.967773      1.000000   \n",
      "LBDA_512_sum_ab  0.000977  0.000977  0.000977  1.000000      1.000000   \n",
      "\n",
      "                 OrdRec-UI_512  LBDS_512_sum_ab  LBDA_512_sum_ab  \n",
      "MF_128                     1.0         1.000000         1.000000  \n",
      "MF_512                     1.0         1.000000         1.000000  \n",
      "CMF_128                    1.0         1.000000         1.000000  \n",
      "CMF_512                    1.0         0.041992         0.000977  \n",
      "OrdRec-U_512               1.0         0.000977         0.000977  \n",
      "OrdRec-UI_512              0.0         0.000977         0.000977  \n",
      "LBDS_512_sum_ab            1.0         0.000000         0.000977  \n",
      "LBDA_512_sum_ab            1.0         1.000000         0.000000  \n"
     ]
    }
   ],
   "source": [
    "# NDCG@3\n",
    "ndcg_fn = lambda x: ndcg_score(x[\"rating\"].values[None,:], x[\"mean\"].values[None,:], k=3) if len(x) > 1 else 1.\n",
    "metric = {k: [np.mean(df.groupby(\"uid\")[[\"rating\", \"mean\"]].apply(ndcg_fn)) for df in dfs] for k, dfs in confidence_models.items()}\n",
    "alternative = \"greater\"\n",
    "keys = list(metric.keys())\n",
    "stat_sign = np.zeros((len(metric), len(metric)))\n",
    "for i, k in enumerate(keys):\n",
    "    for j, k2 in enumerate(keys):\n",
    "        if i == j:\n",
    "            continue\n",
    "        stat_sign[i,j] = ss.wilcoxon(metric[k], metric[k2], alternative=alternative).pvalue\n",
    "print(\"NDCG@3\")\n",
    "for m, v in metric.items():\n",
    "    print(f\"{m}: {np.mean(v)} ({np.std(v)})\")\n",
    "print(f\"\\n(i,j) is p-value for alternative hypothesis that i is {alternative} than j.\")\n",
    "print(pd.DataFrame(stat_sign, index=keys, columns=keys))"
   ]
  },
  {
   "cell_type": "code",
   "execution_count": 15,
   "metadata": {
    "pycharm": {
     "name": "#%%\n"
    },
    "tags": []
   },
   "outputs": [
    {
     "name": "stdout",
     "output_type": "stream",
     "text": [
      "NDCG@10\n",
      "MF_128: 0.9533271343478582 (0.00015554102568800455)\n",
      "MF_512: 0.9560467228802819 (0.0001089099366321796)\n",
      "CMF_128: 0.9546371424249005 (0.00014954737951962927)\n",
      "CMF_512: 0.9572011700734204 (9.114925540612637e-05)\n",
      "OrdRec-U_512: 0.9574918214693682 (0.00013271729456202388)\n",
      "OrdRec-UI_512: 0.9577981375520881 (0.0001304416035401275)\n",
      "LBDS_512_sum_ab: 0.9570736381335326 (0.00015807128040599966)\n",
      "LBDA_512_sum_ab: 0.9565138316171383 (0.00011342171667260674)\n",
      "\n",
      "(i,j) is p-value for alternative hypothesis that i is greater than j.\n",
      "                   MF_128    MF_512   CMF_128   CMF_512  OrdRec-U_512  \\\n",
      "MF_128           0.000000  1.000000  1.000000  1.000000      1.000000   \n",
      "MF_512           0.000977  0.000000  0.000977  1.000000      1.000000   \n",
      "CMF_128          0.000977  1.000000  0.000000  1.000000      1.000000   \n",
      "CMF_512          0.000977  0.000977  0.000977  0.000000      1.000000   \n",
      "OrdRec-U_512     0.000977  0.000977  0.000977  0.000977      0.000000   \n",
      "OrdRec-UI_512    0.000977  0.000977  0.000977  0.000977      0.000977   \n",
      "LBDS_512_sum_ab  0.000977  0.000977  0.000977  0.995117      1.000000   \n",
      "LBDA_512_sum_ab  0.000977  0.000977  0.000977  1.000000      1.000000   \n",
      "\n",
      "                 OrdRec-UI_512  LBDS_512_sum_ab  LBDA_512_sum_ab  \n",
      "MF_128                     1.0         1.000000         1.000000  \n",
      "MF_512                     1.0         1.000000         1.000000  \n",
      "CMF_128                    1.0         1.000000         1.000000  \n",
      "CMF_512                    1.0         0.006836         0.000977  \n",
      "OrdRec-U_512               1.0         0.000977         0.000977  \n",
      "OrdRec-UI_512              0.0         0.000977         0.000977  \n",
      "LBDS_512_sum_ab            1.0         0.000000         0.000977  \n",
      "LBDA_512_sum_ab            1.0         1.000000         0.000000  \n"
     ]
    }
   ],
   "source": [
    "# NDCG@10\n",
    "ndcg_fn = lambda x: ndcg_score(x[\"rating\"].values[None,:], x[\"mean\"].values[None,:], k=10) if len(x) > 1 else 1.\n",
    "metric = {k: [np.mean(df.groupby(\"uid\")[[\"rating\", \"mean\"]].apply(ndcg_fn)) for df in dfs] for k, dfs in confidence_models.items()}\n",
    "alternative = \"greater\"\n",
    "keys = list(metric.keys())\n",
    "stat_sign = np.zeros((len(metric), len(metric)))\n",
    "for i, k in enumerate(keys):\n",
    "    for j, k2 in enumerate(keys):\n",
    "        if i == j:\n",
    "            continue\n",
    "        stat_sign[i,j] = ss.wilcoxon(metric[k], metric[k2], alternative=alternative).pvalue\n",
    "print(\"NDCG@10\")\n",
    "for m, v in metric.items():\n",
    "    print(f\"{m}: {np.mean(v)} ({np.std(v)})\")\n",
    "print(f\"\\n(i,j) is p-value for alternative hypothesis that i is {alternative} than j.\")\n",
    "print(pd.DataFrame(stat_sign, index=keys, columns=keys))"
   ]
  }
 ],
 "metadata": {
  "jupytext": {
   "formats": "ipynb,py:percent"
  },
  "kernelspec": {
   "display_name": "Python 3",
   "language": "python",
   "name": "python3"
  },
  "language_info": {
   "codemirror_mode": {
    "name": "ipython",
    "version": 3
   },
   "file_extension": ".py",
   "mimetype": "text/x-python",
   "name": "python",
   "nbconvert_exporter": "python",
   "pygments_lexer": "ipython3",
   "version": "3.10.11"
  }
 },
 "nbformat": 4,
 "nbformat_minor": 4
}
